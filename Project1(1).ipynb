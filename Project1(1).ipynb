{
  "nbformat": 4,
  "nbformat_minor": 0,
  "metadata": {
    "colab": {
      "name": "Project1.ipynb",
      "provenance": []
    },
    "kernelspec": {
      "name": "python3",
      "display_name": "Python 3"
    },
    "accelerator": "GPU"
  },
  "cells": [
    {
      "cell_type": "code",
      "metadata": {
        "id": "SIBajn4hQw54",
        "colab_type": "code",
        "colab": {}
      },
      "source": [
        "from google.colab import drive"
      ],
      "execution_count": null,
      "outputs": []
    },
    {
      "cell_type": "code",
      "metadata": {
        "id": "xwX11KBqRFdT",
        "colab_type": "code",
        "colab": {}
      },
      "source": [
        "import tensorflow"
      ],
      "execution_count": null,
      "outputs": []
    },
    {
      "cell_type": "code",
      "metadata": {
        "id": "3U3AZw7eRHyn",
        "colab_type": "code",
        "colab": {
          "base_uri": "https://localhost:8080/",
          "height": 128
        },
        "outputId": "6a854b95-6ee1-4490-9fb9-840d8eb948ca"
      },
      "source": [
        "drive.mount('/content/drive/')"
      ],
      "execution_count": null,
      "outputs": [
        {
          "output_type": "stream",
          "text": [
            "Go to this URL in a browser: https://accounts.google.com/o/oauth2/auth?client_id=947318989803-6bn6qk8qdgf4n4g3pfee6491hc0brc4i.apps.googleusercontent.com&redirect_uri=urn%3aietf%3awg%3aoauth%3a2.0%3aoob&response_type=code&scope=email%20https%3a%2f%2fwww.googleapis.com%2fauth%2fdocs.test%20https%3a%2f%2fwww.googleapis.com%2fauth%2fdrive%20https%3a%2f%2fwww.googleapis.com%2fauth%2fdrive.photos.readonly%20https%3a%2f%2fwww.googleapis.com%2fauth%2fpeopleapi.readonly\n",
            "\n",
            "Enter your authorization code:\n",
            "··········\n",
            "Mounted at /content/drive/\n"
          ],
          "name": "stdout"
        }
      ]
    },
    {
      "cell_type": "code",
      "metadata": {
        "id": "hlbH5Q1m7ifs",
        "colab_type": "code",
        "colab": {
          "base_uri": "https://localhost:8080/",
          "height": 35
        },
        "outputId": "c4c2f3ee-960a-4b78-b9db-1f83a23f532b"
      },
      "source": [
        "tensorflow.__version__"
      ],
      "execution_count": null,
      "outputs": [
        {
          "output_type": "execute_result",
          "data": {
            "text/plain": [
              "'2.2.0'"
            ]
          },
          "metadata": {
            "tags": []
          },
          "execution_count": 4
        }
      ]
    },
    {
      "cell_type": "code",
      "metadata": {
        "id": "nv10TRpXRM2Z",
        "colab_type": "code",
        "colab": {}
      },
      "source": [
        "train_dir='/content/drive/My Drive/fruits-360/Training'\n",
        "test_dir='/content/drive/My Drive/fruits-360/Test'"
      ],
      "execution_count": null,
      "outputs": []
    },
    {
      "cell_type": "code",
      "metadata": {
        "id": "Bew1mV-hRkop",
        "colab_type": "code",
        "colab": {}
      },
      "source": [
        "from tensorflow.keras.preprocessing.image import ImageDataGenerator"
      ],
      "execution_count": null,
      "outputs": []
    },
    {
      "cell_type": "code",
      "metadata": {
        "id": "bRcB0jM3RtcI",
        "colab_type": "code",
        "colab": {}
      },
      "source": [
        "from tensorflow.keras import Sequential"
      ],
      "execution_count": null,
      "outputs": []
    },
    {
      "cell_type": "code",
      "metadata": {
        "id": "CbQT0CZTRyAn",
        "colab_type": "code",
        "colab": {}
      },
      "source": [
        "igen=ImageDataGenerator(rescale=1/255)"
      ],
      "execution_count": null,
      "outputs": []
    },
    {
      "cell_type": "code",
      "metadata": {
        "id": "TAQvsuC4maRp",
        "colab_type": "code",
        "colab": {
          "base_uri": "https://localhost:8080/",
          "height": 35
        },
        "outputId": "ca345499-729e-41e9-cc03-116ef883b75e"
      },
      "source": [
        "train_gen=igen.flow_from_directory(directory=train_dir,target_size=(128,128),classes=['Apple','Banana','Cherry','Lemon','Onion','Plum','Potato','Strawberry','Tomato','Walnut'],class_mode='sparse',batch_size=32)"
      ],
      "execution_count": null,
      "outputs": [
        {
          "output_type": "stream",
          "text": [
            "Found 7935 images belonging to 10 classes.\n"
          ],
          "name": "stdout"
        }
      ]
    },
    {
      "cell_type": "code",
      "metadata": {
        "id": "TV_8fKoDR0o_",
        "colab_type": "code",
        "colab": {
          "base_uri": "https://localhost:8080/",
          "height": 35
        },
        "outputId": "a1aa00c9-d890-4ca9-c8a4-e5a0cf0f767c"
      },
      "source": [
        "test_gen=igen.flow_from_directory(directory=test_dir,target_size=(128,128),classes=['Apple','Banana','Cherry',\n",
        "                                            'Lemon','Onion','Plum','Potato',\n",
        "                                            'Strawberry','Tomato','Walnut'],class_mode='sparse',batch_size=32)"
      ],
      "execution_count": null,
      "outputs": [
        {
          "output_type": "stream",
          "text": [
            "Found 2000 images belonging to 10 classes.\n"
          ],
          "name": "stdout"
        }
      ]
    },
    {
      "cell_type": "code",
      "metadata": {
        "id": "TlPKz3B4S_id",
        "colab_type": "code",
        "colab": {}
      },
      "source": [
        "model=Sequential()"
      ],
      "execution_count": null,
      "outputs": []
    },
    {
      "cell_type": "code",
      "metadata": {
        "id": "gXDG2Q1H9HMl",
        "colab_type": "code",
        "colab": {}
      },
      "source": [
        "from tensorflow.keras.layers import Flatten,Dense,Conv2D,MaxPool2D,Dropout"
      ],
      "execution_count": null,
      "outputs": []
    },
    {
      "cell_type": "code",
      "metadata": {
        "id": "LNunkjAITFeq",
        "colab_type": "code",
        "colab": {}
      },
      "source": [
        "model.add(Conv2D(filters=32,kernel_size=(3,3),padding='same',input_shape=(128,128,3)))\n",
        "model.add(Conv2D(filters=64,kernel_size=(3,3),padding='same',activation='relu'))\n",
        "model.add(MaxPool2D(pool_size=(2,2)))\n",
        "model.add(Conv2D(filters=64,kernel_size=(3,3),padding='same',activation='relu'))\n",
        "model.add(MaxPool2D(pool_size=(2,2)))\n",
        "model.add(Dropout(.3))\n",
        "model.add(Conv2D(filters=128,kernel_size=(3,3),padding='same',activation='relu'))\n",
        "model.add(Conv2D(filters=128,kernel_size=(3,3),padding='same',activation='relu'))\n",
        "model.add(MaxPool2D(pool_size=(2,2)))\n",
        "model.add(Dropout(.3))\n",
        "model.add(Flatten())\n",
        "model.add(Dense(units=4096,activation='relu'))\n",
        "model.add(Dropout(.2))\n",
        "model.add(Dense(units=512,activation='relu'))\n",
        "model.add(Dense(units=10,activation='softmax'))"
      ],
      "execution_count": null,
      "outputs": []
    },
    {
      "cell_type": "code",
      "metadata": {
        "id": "vd--MRXK6k1_",
        "colab_type": "code",
        "colab": {}
      },
      "source": [
        "# vgg16 model \n",
        "model.add(Conv2D(filters=64,kernel_size=(3,3),padding='same',input_shape=(128,128,3)))\n",
        "model.add(Conv2D(filters=64,kernel_size=(3,3),padding='same'))\n",
        "\n",
        "model.add(MaxPool2D(pool_size=(2,2)))\n",
        "\n",
        "model.add(Conv2D(filters=128,kernel_size=(3,3),padding='same'))\n",
        "model.add(Conv2D(filters=128,kernel_size=(3,3),padding='same'))\n",
        "\n",
        "model.add(MaxPool2D(pool_size=(2,2)))\n",
        "\n",
        "\n",
        "model.add(Conv2D(filters=256,kernel_size=(3,3),padding='same'))\n",
        "model.add(Conv2D(filters=256,kernel_size=(3,3),padding='same'))\n",
        "model.add(Conv2D(filters=256,kernel_size=(3,3),padding='same'))\n",
        "\n",
        "model.add(MaxPool2D(pool_size=(2,2)))\n",
        "\n",
        "\n",
        "model.add(Conv2D(filters=512,kernel_size=(3,3),padding='same'))\n",
        "model.add(Conv2D(filters=512,kernel_size=(3,3),padding='same'))\n",
        "model.add(Conv2D(filters=512,kernel_size=(3,3),padding='same'))\n",
        "\n",
        "model.add(MaxPool2D(pool_size=(2,2)))\n",
        "\n",
        "model.add(Conv2D(filters=512,kernel_size=(3,3),padding='same'))\n",
        "model.add(Conv2D(filters=512,kernel_size=(3,3),padding='same'))\n",
        "model.add(Conv2D(filters=512,kernel_size=(3,3),padding='same'))\n",
        "\n",
        "model.add(MaxPool2D(pool_size=(2,2)))\n",
        "\n",
        "\n",
        "model.add(Dropout(.3))\n",
        "\n",
        "model.add(Flatten())\n",
        "model.add(Dropout(.3))\n",
        "model.add(Dense(units=4096,activation='relu'))\n",
        "\n",
        "model.add(Dense(units=4096,activation='relu'))\n",
        "model.add(Dense(units=4096,activation='relu'))\n",
        "model.add(Dense(units=10,activation='softmax'))"
      ],
      "execution_count": null,
      "outputs": []
    },
    {
      "cell_type": "code",
      "metadata": {
        "id": "XWhhIyWnTh0H",
        "colab_type": "code",
        "colab": {
          "base_uri": "https://localhost:8080/",
          "height": 707
        },
        "outputId": "b65e9965-15a1-44eb-b655-f0ac07106b3b"
      },
      "source": [
        "model.summary()"
      ],
      "execution_count": null,
      "outputs": [
        {
          "output_type": "stream",
          "text": [
            "Model: \"sequential\"\n",
            "_________________________________________________________________\n",
            "Layer (type)                 Output Shape              Param #   \n",
            "=================================================================\n",
            "conv2d (Conv2D)              (None, 128, 128, 32)      896       \n",
            "_________________________________________________________________\n",
            "conv2d_1 (Conv2D)            (None, 128, 128, 64)      18496     \n",
            "_________________________________________________________________\n",
            "max_pooling2d (MaxPooling2D) (None, 64, 64, 64)        0         \n",
            "_________________________________________________________________\n",
            "conv2d_2 (Conv2D)            (None, 64, 64, 64)        36928     \n",
            "_________________________________________________________________\n",
            "max_pooling2d_1 (MaxPooling2 (None, 32, 32, 64)        0         \n",
            "_________________________________________________________________\n",
            "dropout (Dropout)            (None, 32, 32, 64)        0         \n",
            "_________________________________________________________________\n",
            "conv2d_3 (Conv2D)            (None, 32, 32, 128)       73856     \n",
            "_________________________________________________________________\n",
            "conv2d_4 (Conv2D)            (None, 32, 32, 128)       147584    \n",
            "_________________________________________________________________\n",
            "max_pooling2d_2 (MaxPooling2 (None, 16, 16, 128)       0         \n",
            "_________________________________________________________________\n",
            "dropout_1 (Dropout)          (None, 16, 16, 128)       0         \n",
            "_________________________________________________________________\n",
            "flatten (Flatten)            (None, 32768)             0         \n",
            "_________________________________________________________________\n",
            "dense (Dense)                (None, 4096)              134221824 \n",
            "_________________________________________________________________\n",
            "dropout_2 (Dropout)          (None, 4096)              0         \n",
            "_________________________________________________________________\n",
            "dense_1 (Dense)              (None, 512)               2097664   \n",
            "_________________________________________________________________\n",
            "dense_2 (Dense)              (None, 10)                5130      \n",
            "=================================================================\n",
            "Total params: 136,602,378\n",
            "Trainable params: 136,602,378\n",
            "Non-trainable params: 0\n",
            "_________________________________________________________________\n"
          ],
          "name": "stdout"
        }
      ]
    },
    {
      "cell_type": "code",
      "metadata": {
        "id": "xdGVJzs9cskL",
        "colab_type": "code",
        "colab": {}
      },
      "source": [
        "model.load_weights(checkpoint_dir)"
      ],
      "execution_count": null,
      "outputs": []
    },
    {
      "cell_type": "code",
      "metadata": {
        "id": "kfIgMz3jTle9",
        "colab_type": "code",
        "colab": {}
      },
      "source": [
        "model.compile(optimizer='adam',loss='sparse_categorical_crossentropy',metrics=['accuracy'])"
      ],
      "execution_count": null,
      "outputs": []
    },
    {
      "cell_type": "code",
      "metadata": {
        "id": "COhf5c938i1c",
        "colab_type": "code",
        "colab": {}
      },
      "source": [
        "import os\n",
        "checkpoint_path='/content/fruits_model'\n",
        "checkpoint_dir=os.path.dirname(checkpoint_path)"
      ],
      "execution_count": null,
      "outputs": []
    },
    {
      "cell_type": "code",
      "metadata": {
        "id": "5ZpHrm4A9bxf",
        "colab_type": "code",
        "colab": {}
      },
      "source": [
        "cp_callbacks=tensorflow.keras.callbacks.ModelCheckpoint(checkpoint_path,save_weights_only=True,verbose=1)"
      ],
      "execution_count": null,
      "outputs": []
    },
    {
      "cell_type": "code",
      "metadata": {
        "id": "dzUq7fn_Tx_v",
        "colab_type": "code",
        "colab": {
          "base_uri": "https://localhost:8080/",
          "height": 764
        },
        "outputId": "7f00292b-46ba-4956-f66b-9fbf717aaf76"
      },
      "source": [
        "history=model.fit_generator(generator=train_gen,steps_per_epoch=len(train_gen),\n",
        "                            epochs=10,validation_data=test_gen,validation_steps=len(test_gen),callbacks=[cp_callbacks])"
      ],
      "execution_count": null,
      "outputs": [
        {
          "output_type": "stream",
          "text": [
            "Epoch 1/10\n",
            "248/248 [==============================] - ETA: 0s - loss: 0.1906 - accuracy: 0.9530\n",
            "Epoch 00001: saving model to /content/fruits_model\n",
            "248/248 [==============================] - 36s 146ms/step - loss: 0.1906 - accuracy: 0.9530 - val_loss: 0.2689 - val_accuracy: 0.9310\n",
            "Epoch 2/10\n",
            "248/248 [==============================] - ETA: 0s - loss: 0.0155 - accuracy: 0.9946\n",
            "Epoch 00002: saving model to /content/fruits_model\n",
            "248/248 [==============================] - 41s 165ms/step - loss: 0.0155 - accuracy: 0.9946 - val_loss: 0.0806 - val_accuracy: 0.9775\n",
            "Epoch 3/10\n",
            "248/248 [==============================] - ETA: 0s - loss: 0.0185 - accuracy: 0.9943\n",
            "Epoch 00003: saving model to /content/fruits_model\n",
            "248/248 [==============================] - 47s 188ms/step - loss: 0.0185 - accuracy: 0.9943 - val_loss: 0.1082 - val_accuracy: 0.9635\n",
            "Epoch 4/10\n",
            "248/248 [==============================] - ETA: 0s - loss: 0.0654 - accuracy: 0.9849\n",
            "Epoch 00004: saving model to /content/fruits_model\n",
            "248/248 [==============================] - 37s 149ms/step - loss: 0.0654 - accuracy: 0.9849 - val_loss: 0.1260 - val_accuracy: 0.9785\n",
            "Epoch 5/10\n",
            "248/248 [==============================] - ETA: 0s - loss: 0.0071 - accuracy: 0.9984\n",
            "Epoch 00005: saving model to /content/fruits_model\n",
            "248/248 [==============================] - 42s 170ms/step - loss: 0.0071 - accuracy: 0.9984 - val_loss: 0.0106 - val_accuracy: 0.9950\n",
            "Epoch 6/10\n",
            "248/248 [==============================] - ETA: 0s - loss: 1.5454e-04 - accuracy: 1.0000\n",
            "Epoch 00006: saving model to /content/fruits_model\n",
            "248/248 [==============================] - 40s 160ms/step - loss: 1.5454e-04 - accuracy: 1.0000 - val_loss: 0.0054 - val_accuracy: 0.9975\n",
            "Epoch 7/10\n",
            "248/248 [==============================] - ETA: 0s - loss: 3.5103e-05 - accuracy: 1.0000\n",
            "Epoch 00007: saving model to /content/fruits_model\n",
            "248/248 [==============================] - 42s 169ms/step - loss: 3.5103e-05 - accuracy: 1.0000 - val_loss: 0.0011 - val_accuracy: 1.0000\n",
            "Epoch 8/10\n",
            "248/248 [==============================] - ETA: 0s - loss: 1.4256e-05 - accuracy: 1.0000\n",
            "Epoch 00008: saving model to /content/fruits_model\n",
            "248/248 [==============================] - 42s 168ms/step - loss: 1.4256e-05 - accuracy: 1.0000 - val_loss: 0.0018 - val_accuracy: 1.0000\n",
            "Epoch 9/10\n",
            "248/248 [==============================] - ETA: 0s - loss: 0.0741 - accuracy: 0.9887\n",
            "Epoch 00009: saving model to /content/fruits_model\n",
            "248/248 [==============================] - 41s 166ms/step - loss: 0.0741 - accuracy: 0.9887 - val_loss: 0.0201 - val_accuracy: 0.9950\n",
            "Epoch 10/10\n",
            "248/248 [==============================] - ETA: 0s - loss: 0.0425 - accuracy: 0.9931\n",
            "Epoch 00010: saving model to /content/fruits_model\n",
            "248/248 [==============================] - 41s 164ms/step - loss: 0.0425 - accuracy: 0.9931 - val_loss: 0.0442 - val_accuracy: 0.9825\n"
          ],
          "name": "stdout"
        }
      ]
    },
    {
      "cell_type": "code",
      "metadata": {
        "id": "8EM4KSKKq7Jg",
        "colab_type": "code",
        "colab": {}
      },
      "source": [
        "value=history.history"
      ],
      "execution_count": null,
      "outputs": []
    },
    {
      "cell_type": "code",
      "metadata": {
        "id": "-2YSkzo0VvCb",
        "colab_type": "code",
        "colab": {
          "base_uri": "https://localhost:8080/",
          "height": 313
        },
        "outputId": "dcc1d5a3-6054-4802-cfe3-acc0586448ff"
      },
      "source": [
        "import matplotlib.pyplot as plt\n",
        "plt.plot(value['accuracy'],label='learning accuracy')\n",
        "plt.plot(value['val_accuracy'],label='testing accuracy')\n",
        "plt.title('learning curve')\n",
        "plt.xlabel('epochs')\n",
        "plt.ylabel('accuracy')\n",
        "plt.legend()"
      ],
      "execution_count": null,
      "outputs": [
        {
          "output_type": "execute_result",
          "data": {
            "text/plain": [
              "<matplotlib.legend.Legend at 0x7f4e309d1828>"
            ]
          },
          "metadata": {
            "tags": []
          },
          "execution_count": 35
        },
        {
          "output_type": "display_data",
          "data": {
            "image/png": "[encoded data removed]",
            "text/plain": [
              "<Figure size 432x288 with 1 Axes>"
            ]
          },
          "metadata": {
            "tags": [],
            "needs_background": "light"
          }
        }
      ]
    },
    {
      "cell_type": "code",
      "metadata": {
        "id": "dckW0x4rbqpW",
        "colab_type": "code",
        "colab": {
          "base_uri": "https://localhost:8080/",
          "height": 313
        },
        "outputId": "305522f9-cf89-44ac-c721-e44566d6f630"
      },
      "source": [
        "plt.plot(value['loss'],label='learning loss')\n",
        "plt.plot(value['val_loss'],label='tensting loss')\n",
        "plt.title('learning curve of loss')\n",
        "plt.xlabel('epochs')\n",
        "plt.ylabel('loss')\n",
        "plt.legend()"
      ],
      "execution_count": null,
      "outputs": [
        {
          "output_type": "execute_result",
          "data": {
            "text/plain": [
              "<matplotlib.legend.Legend at 0x7f4e309a1e48>"
            ]
          },
          "metadata": {
            "tags": []
          },
          "execution_count": 36
        },
        {
          "output_type": "display_data",
          "data": {
            "image/png": "[encoded data removed]",
            "text/plain": [
              "<Figure size 432x288 with 1 Axes>"
            ]
          },
          "metadata": {
            "tags": [],
            "needs_background": "light"
          }
        }
      ]
    },
    {
      "cell_type": "code",
      "metadata": {
        "id": "IBKlmLHZb1YS",
        "colab_type": "code",
        "colab": {
          "base_uri": "https://localhost:8080/",
          "height": 207
        },
        "outputId": "8174b482-aeba-47f2-83a5-1cc09fe9adfb"
      },
      "source": [
        " fruits_model = 'classifier.pt'\n",
        "path = F\"/content/gdrive/My Drive/{fruits_model}\" \n",
        "torch.save(model., path)"
      ],
      "execution_count": null,
      "outputs": [
        {
          "output_type": "error",
          "ename": "TypeError",
          "evalue": "ignored",
          "traceback": [
            "\u001b[0;31m---------------------------------------------------------------------------\u001b[0m",
            "\u001b[0;31mTypeError\u001b[0m                                 Traceback (most recent call last)",
            "\u001b[0;32m<ipython-input-23-628194022b9c>\u001b[0m in \u001b[0;36m<module>\u001b[0;34m()\u001b[0m\n\u001b[1;32m      1\u001b[0m \u001b[0mfruits_model\u001b[0m \u001b[0;34m=\u001b[0m \u001b[0;34m'classifier.pt'\u001b[0m\u001b[0;34m\u001b[0m\u001b[0;34m\u001b[0m\u001b[0m\n\u001b[1;32m      2\u001b[0m \u001b[0mpath\u001b[0m \u001b[0;34m=\u001b[0m \u001b[0;34mF\"/content/gdrive/My Drive/{fruits_model}\"\u001b[0m\u001b[0;34m\u001b[0m\u001b[0;34m\u001b[0m\u001b[0m\n\u001b[0;32m----> 3\u001b[0;31m \u001b[0mtorch\u001b[0m\u001b[0;34m.\u001b[0m\u001b[0msave\u001b[0m\u001b[0;34m(\u001b[0m\u001b[0mmodel\u001b[0m\u001b[0;34m.\u001b[0m\u001b[0mstate_updates\u001b[0m\u001b[0;34m(\u001b[0m\u001b[0;34m)\u001b[0m\u001b[0;34m,\u001b[0m \u001b[0mpath\u001b[0m\u001b[0;34m)\u001b[0m\u001b[0;34m\u001b[0m\u001b[0;34m\u001b[0m\u001b[0m\n\u001b[0m",
            "\u001b[0;31mTypeError\u001b[0m: 'list' object is not callable"
          ]
        }
      ]
    },
    {
      "cell_type": "code",
      "metadata": {
        "id": "V5c-Yx2b2_lw",
        "colab_type": "code",
        "colab": {
          "base_uri": "https://localhost:8080/",
          "height": 110
        },
        "outputId": "771479f4-9ee4-4b47-d207-56ca23bb8dec"
      },
      "source": [
        "model.save('fruits_model')"
      ],
      "execution_count": null,
      "outputs": [
        {
          "output_type": "stream",
          "text": [
            "WARNING:tensorflow:From /usr/local/lib/python3.6/dist-packages/tensorflow/python/ops/resource_variable_ops.py:1817: calling BaseResourceVariable.__init__ (from tensorflow.python.ops.resource_variable_ops) with constraint is deprecated and will be removed in a future version.\n",
            "Instructions for updating:\n",
            "If using Keras pass *_constraint arguments to layers.\n",
            "INFO:tensorflow:Assets written to: fruits_model/assets\n"
          ],
          "name": "stdout"
        }
      ]
    },
    {
      "cell_type": "code",
      "metadata": {
        "id": "Y5vyHZTaAQ9A",
        "colab_type": "code",
        "colab": {
          "base_uri": "https://localhost:8080/",
          "height": 72
        },
        "outputId": "2845a06a-87bb-4d0c-a0a9-7997d39b4e90"
      },
      "source": [
        "!ls {checkpoint_dir}"
      ],
      "execution_count": null,
      "outputs": [
        {
          "output_type": "stream",
          "text": [
            "checkpoint    fruits_model.data-00000-of-00002\tsample_data\n",
            "drive\t      fruits_model.data-00001-of-00002\tsaved_model.pb\n",
            "fruits_model  fruits_model.index\n"
          ],
          "name": "stdout"
        }
      ]
    },
    {
      "cell_type": "code",
      "metadata": {
        "id": "cOKhAhshAgU1",
        "colab_type": "code",
        "colab": {}
      },
      "source": [
        ""
      ],
      "execution_count": null,
      "outputs": []
    }
  ]
}